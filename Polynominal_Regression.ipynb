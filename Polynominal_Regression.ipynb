{
  "nbformat": 4,
  "nbformat_minor": 0,
  "metadata": {
    "colab": {
      "name": "Polynominal Regression",
      "provenance": [],
      "authorship_tag": "ABX9TyMuRvHhQNtgq7B7yzukbmiP",
      "include_colab_link": true
    },
    "kernelspec": {
      "name": "python3",
      "display_name": "Python 3"
    },
    "language_info": {
      "name": "python"
    }
  },
  "cells": [
    {
      "cell_type": "markdown",
      "metadata": {
        "id": "view-in-github",
        "colab_type": "text"
      },
      "source": [
        "<a href=\"https://colab.research.google.com/github/ojewah/Machine-Learning/blob/main/Polynominal_Regression.ipynb\" target=\"_parent\"><img src=\"https://colab.research.google.com/assets/colab-badge.svg\" alt=\"Open In Colab\"/></a>"
      ]
    },
    {
      "cell_type": "markdown",
      "metadata": {
        "id": "TzvUyMxe4fAF"
      },
      "source": [
        "Import libraries"
      ]
    },
    {
      "cell_type": "code",
      "metadata": {
        "id": "D_ildCtT4jVW"
      },
      "source": [
        "import numpy as np\n",
        "import matplotlib.pyplot as plt\n",
        "import pandas as pd"
      ],
      "execution_count": 1,
      "outputs": []
    },
    {
      "cell_type": "markdown",
      "metadata": {
        "id": "9HkwPQkN4u54"
      },
      "source": [
        "Import dataset"
      ]
    },
    {
      "cell_type": "code",
      "metadata": {
        "id": "EzjILMhl4xn5"
      },
      "source": [
        "dataset = pd.read_csv('Position_Salaries.csv')\n",
        "x = dataset.iloc[:,1:-1].values\n",
        "y = dataset.iloc[:,-1].values"
      ],
      "execution_count": 2,
      "outputs": []
    },
    {
      "cell_type": "markdown",
      "metadata": {
        "id": "YXob5GVk5CfA"
      },
      "source": [
        "Training the linear regression model on the whole dataset"
      ]
    },
    {
      "cell_type": "code",
      "metadata": {
        "colab": {
          "base_uri": "https://localhost:8080/"
        },
        "id": "exBqujEO7mB6",
        "outputId": "3261fe44-0f47-4ef1-95f8-654e60bb98c1"
      },
      "source": [
        "from sklearn.linear_model import LinearRegression\n",
        "lin_reg = LinearRegression()\n",
        "lin_reg.fit(x,y)"
      ],
      "execution_count": 3,
      "outputs": [
        {
          "output_type": "execute_result",
          "data": {
            "text/plain": [
              "LinearRegression(copy_X=True, fit_intercept=True, n_jobs=None, normalize=False)"
            ]
          },
          "metadata": {
            "tags": []
          },
          "execution_count": 3
        }
      ]
    },
    {
      "cell_type": "markdown",
      "metadata": {
        "id": "8fsu0ASp5H6h"
      },
      "source": [
        "Training the polynomial regression model on the whole dataset"
      ]
    },
    {
      "cell_type": "code",
      "metadata": {
        "id": "MSZbqCJjAUus",
        "colab": {
          "base_uri": "https://localhost:8080/"
        },
        "outputId": "149ead4a-540b-47b0-befb-de5d1034b323"
      },
      "source": [
        "from sklearn.preprocessing import PolynomialFeatures\n",
        "poly_reg = PolynomialFeatures(degree = 3)\n",
        "x_poly = poly_reg.fit_transform(x)\n",
        "lin_reg_2 = LinearRegression()\n",
        "lin_reg_2.fit(x_poly,y)"
      ],
      "execution_count": 8,
      "outputs": [
        {
          "output_type": "execute_result",
          "data": {
            "text/plain": [
              "LinearRegression(copy_X=True, fit_intercept=True, n_jobs=None, normalize=False)"
            ]
          },
          "metadata": {
            "tags": []
          },
          "execution_count": 8
        }
      ]
    },
    {
      "cell_type": "markdown",
      "metadata": {
        "id": "zBDDNbkc5YUT"
      },
      "source": [
        "Visualising the linear regression results\n"
      ]
    },
    {
      "cell_type": "code",
      "metadata": {
        "colab": {
          "base_uri": "https://localhost:8080/",
          "height": 295
        },
        "id": "EErQK_jJQWUn",
        "outputId": "07be705a-caa6-43ac-9c15-9c831d8b033c"
      },
      "source": [
        "plt.scatter(x, y, color = 'red')\n",
        "plt.plot(x, lin_reg.predict(x), color = 'blue')\n",
        "plt.title('Truth or BLuff (Linear Regression)')\n",
        "plt.xlabel('Level')\n",
        "plt.ylabel('Salary')\n",
        "plt.show()"
      ],
      "execution_count": 5,
      "outputs": [
        {
          "output_type": "display_data",
          "data": {
            "image/png": "[encoded data removed]",
            "text/plain": [
              "<Figure size 432x288 with 1 Axes>"
            ]
          },
          "metadata": {
            "tags": [],
            "needs_background": "light"
          }
        }
      ]
    },
    {
      "cell_type": "markdown",
      "metadata": {
        "id": "B6zAt3bF5aHQ"
      },
      "source": [
        "Visualising the polynomial regression results"
      ]
    },
    {
      "cell_type": "code",
      "metadata": {
        "colab": {
          "base_uri": "https://localhost:8080/",
          "height": 295
        },
        "id": "vm4dQ47jRd5k",
        "outputId": "fe6430ba-0a64-437c-c04a-d88842c9e5a1"
      },
      "source": [
        "plt.scatter(x, y, color = 'red')\n",
        "plt.plot(x, lin_reg_2.predict(x_poly), color = 'blue')\n",
        "plt.title('Truth or Bluff (Linear Regression)')\n",
        "plt.xlabel('Level')\n",
        "plt.ylabel('Salary')\n",
        "plt.show()"
      ],
      "execution_count": 9,
      "outputs": [
        {
          "output_type": "display_data",
          "data": {
            "image/png": "[encoded data removed]",
            "text/plain": [
              "<Figure size 432x288 with 1 Axes>"
            ]
          },
          "metadata": {
            "tags": [],
            "needs_background": "light"
          }
        }
      ]
    },
    {
      "cell_type": "markdown",
      "metadata": {
        "id": "juS10rtD5h_B"
      },
      "source": [
        "Visualising the polynomial regression results (For higher resulation)"
      ]
    },
    {
      "cell_type": "markdown",
      "metadata": {
        "id": "vKrG5uxh57vA"
      },
      "source": [
        "Predicting results with linear model"
      ]
    },
    {
      "cell_type": "code",
      "metadata": {
        "colab": {
          "base_uri": "https://localhost:8080/"
        },
        "id": "cVbxSSYwVZqC",
        "outputId": "9404de2d-1cfa-464b-a025-8272d198976d"
      },
      "source": [
        "lin_reg.predict([[6.5]])"
      ],
      "execution_count": 10,
      "outputs": [
        {
          "output_type": "execute_result",
          "data": {
            "text/plain": [
              "array([330378.78787879])"
            ]
          },
          "metadata": {
            "tags": []
          },
          "execution_count": 10
        }
      ]
    },
    {
      "cell_type": "markdown",
      "metadata": {
        "id": "K1Y95gV25_jq"
      },
      "source": [
        "Predicting results with polynomial model\n"
      ]
    },
    {
      "cell_type": "code",
      "metadata": {
        "colab": {
          "base_uri": "https://localhost:8080/"
        },
        "id": "QcgmV3HVVa9s",
        "outputId": "91475363-28fd-4f41-e481-63cfa43b3aec"
      },
      "source": [
        "lin_reg_2.predict(poly_reg.fit_transform([[6.5]]))"
      ],
      "execution_count": 12,
      "outputs": [
        {
          "output_type": "execute_result",
          "data": {
            "text/plain": [
              "array([133259.46969697])"
            ]
          },
          "metadata": {
            "tags": []
          },
          "execution_count": 12
        }
      ]
    }
  ]
}